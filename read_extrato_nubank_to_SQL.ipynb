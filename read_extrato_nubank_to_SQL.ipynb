{
 "cells": [
  {
   "cell_type": "markdown",
   "metadata": {},
   "source": [
    "#### 1. Bibliotecas\n"
   ]
  },
  {
   "cell_type": "code",
   "execution_count": 2,
   "metadata": {},
   "outputs": [],
   "source": [
    "import pandas as pd\n",
    "import datetime"
   ]
  },
  {
   "cell_type": "markdown",
   "metadata": {},
   "source": [
    "#### 2. Funções"
   ]
  },
  {
   "cell_type": "code",
   "execution_count": 18,
   "metadata": {},
   "outputs": [],
   "source": [
    "def aquisicao_dados(local):\n",
    "\n",
    "    # Leitura do extrato\n",
    "    df = pd.read_csv(local)\n",
    "\n",
    "    # Print do extrato\n",
    "    print('*'*100, '\\n', f'Extrato: {local}', '\\n', '*'*100)\n",
    "    print(df)\n",
    "\n",
    "    return df\n"
   ]
  },
  {
   "cell_type": "code",
   "execution_count": 19,
   "metadata": {},
   "outputs": [],
   "source": [
    "def filtro_primario(dados, tipo):\n",
    "\n",
    "    if tipo == 'Entrada':\n",
    "        # Filtro primario\n",
    "        df_filtrado = dados[dados['Valor'] > 0]\n",
    "\n",
    "        # Print do extrato\n",
    "        print('*'*100, '\\n', f'Extrato {tipo}', '\\n', '*'*100)\n",
    "        print(df_filtrado)\n",
    "\n",
    "    if tipo == 'Saida':\n",
    "        # Filtro primario\n",
    "        df_filtrado = dados[dados['Valor'] < 0]\n",
    "\n",
    "        # Print do extrato\n",
    "        print('*'*100, '\\n', f'Extrato {tipo}', '\\n', '*'*100)\n",
    "        print(df_filtrado)\n",
    "\n",
    "    return df_filtrado\n",
    "        "
   ]
  },
  {
   "cell_type": "code",
   "execution_count": 20,
   "metadata": {},
   "outputs": [],
   "source": [
    "def troca_formato_data(dados):\n",
    "\n",
    "    dados['Data'] = dados['Data'].apply(lambda x: datetime.datetime.strptime(x, '%d/%m/%Y').strftime('%Y-%m-%d'))\n",
    "\n",
    "    return dados"
   ]
  },
  {
   "cell_type": "code",
   "execution_count": 23,
   "metadata": {},
   "outputs": [],
   "source": [
    "def tratamento_dados(dados):\n",
    "\n",
    "    # Troca do formato da data\n",
    "    dados = troca_formato_data(dados)\n",
    "\n",
    "    # Renomeação das colunas 'Data' e 'Valor'\n",
    "    dados.rename(columns = {'Data': 'data_pagamento'}, inplace = True)\n",
    "    dados.rename(columns = {'Valor': 'valor'}, inplace = True)\n",
    "\n",
    "    # Split da 'Descrição' em 4 colunas\n",
    "    dados['categoria'] = dados['Descrição'].str.split(' - ', expand=True)[0]\n",
    "    dados['origem'] = dados['Descrição'].str.split(' - ', expand=True)[1]\n",
    "    dados['cpf'] = dados['Descrição'].str.split(' - ', expand=True)[2]\n",
    "    dados['dados_bancarios'] = dados['Descrição'].str.split(' - ', expand=True)[3]\n",
    "\n",
    "    # Retirada da coluna 'Descrição'\n",
    "    dados = dados.drop('Descrição', axis=1)\n",
    "\n",
    "    # Print do extrato\n",
    "    print('*'*100, '\\n', f'Extrato com dados tratados', '\\n', '*'*100)\n",
    "    print(dados)\n",
    "\n",
    "    return dados\n"
   ]
  },
  {
   "cell_type": "code",
   "execution_count": 27,
   "metadata": {},
   "outputs": [],
   "source": [
    "def operacao_extracao(local, tipo):\n",
    "    \n",
    "    df = aquisicao_dados(local)\n",
    "\n",
    "    df_filtrado = filtro_primario(df, tipo)\n",
    "\n",
    "    df_tratado = tratamento_dados(df_filtrado)\n",
    "\n",
    "    return df_tratado"
   ]
  },
  {
   "cell_type": "code",
   "execution_count": 32,
   "metadata": {},
   "outputs": [],
   "source": [
    "def print_MySQL(dados, ultimo_id):\n",
    "\n",
    "    in_string = 'INSERT INTO `DADOS_BANCO` (`id_BAN`, `BAN_ORIGEM`, `BAN_CATEGORIA`, `BAN_VALOR`, `BAN_DATA`) VALUES'\n",
    "\n",
    "    print(in_string)\n",
    "\n",
    "    for i in df.index:\n",
    "\n",
    "        origem = dados.loc[i, 'origem']\n",
    "        categoria = dados.loc[i, 'categoria']\n",
    "        data_pagamento = dados.loc[i, 'data_pagamento']\n",
    "        valor = dados.loc[i, 'valor']\n",
    "\n",
    "        ultimo_id += 1\n",
    "\n",
    "        string = (ultimo_id, f'{origem}', f'{categoria}', valor, f'{data_pagamento}')\n",
    "\n",
    "        print(string)"
   ]
  },
  {
   "cell_type": "markdown",
   "metadata": {},
   "source": [
    "#### 3. Aplicação"
   ]
  },
  {
   "cell_type": "markdown",
   "metadata": {},
   "source": [
    "Para receber o extrato do seu NuBank, originalmente em .csv, em uma tabela tratada e resumida, pronta para ser adequada para o armazenamento em SQL, você precisara do *path* do arquivo .csv \n",
    "\n",
    "Ademais, também será necessário especicificar se deseja obter os valores de entrada ou saída do extrato"
   ]
  },
  {
   "cell_type": "code",
   "execution_count": null,
   "metadata": {},
   "outputs": [],
   "source": [
    "dados = operacao_extracao('path_do_arquivo_aqui','Entrada ou Saida')"
   ]
  },
  {
   "cell_type": "markdown",
   "metadata": {},
   "source": [
    "Para visualizar a tabela, apenas digite 'dados' ao compilador"
   ]
  },
  {
   "cell_type": "code",
   "execution_count": null,
   "metadata": {},
   "outputs": [],
   "source": [
    "dados"
   ]
  },
  {
   "cell_type": "markdown",
   "metadata": {},
   "source": [
    "Caso queira realizar operações especificar, aqui vai uma lista de possíveis operações:\n",
    "\n",
    "1. Localização de um dado específico"
   ]
  },
  {
   "cell_type": "code",
   "execution_count": null,
   "metadata": {},
   "outputs": [],
   "source": [
    "dados['nome_da_coluna'].loc['id']"
   ]
  },
  {
   "cell_type": "markdown",
   "metadata": {},
   "source": [
    "2. Soma dos valores\n",
    "   "
   ]
  },
  {
   "cell_type": "code",
   "execution_count": null,
   "metadata": {},
   "outputs": [],
   "source": [
    "sum(dados['valor'])"
   ]
  },
  {
   "cell_type": "markdown",
   "metadata": {},
   "source": [
    "3. Retirada de uma linha específica da base de dados"
   ]
  },
  {
   "cell_type": "code",
   "execution_count": null,
   "metadata": {},
   "outputs": [],
   "source": [
    "dados = dados.drop(index='id')"
   ]
  },
  {
   "cell_type": "markdown",
   "metadata": {},
   "source": [
    "4. Adição de um dado específico"
   ]
  },
  {
   "cell_type": "code",
   "execution_count": null,
   "metadata": {},
   "outputs": [],
   "source": [
    "dados.loc['id', 'nome_da_coluna'] = 'informacao'"
   ]
  },
  {
   "cell_type": "markdown",
   "metadata": {},
   "source": [
    "#### 4. Adequação dos dados para a linguagem SQL"
   ]
  },
  {
   "cell_type": "markdown",
   "metadata": {},
   "source": [
    "O Banco de Dados em MySQL possui a estrutura explicada em: \"script_banco_dados_entrada.sql\""
   ]
  },
  {
   "cell_type": "code",
   "execution_count": null,
   "metadata": {},
   "outputs": [],
   "source": [
    "print_MySQL(dados, ultimo_id)"
   ]
  }
 ],
 "metadata": {
  "kernelspec": {
   "display_name": "Python 3",
   "language": "python",
   "name": "python3"
  },
  "language_info": {
   "codemirror_mode": {
    "name": "ipython",
    "version": 3
   },
   "file_extension": ".py",
   "mimetype": "text/x-python",
   "name": "python",
   "nbconvert_exporter": "python",
   "pygments_lexer": "ipython3",
   "version": "3.11.0"
  },
  "orig_nbformat": 4
 },
 "nbformat": 4,
 "nbformat_minor": 2
}
