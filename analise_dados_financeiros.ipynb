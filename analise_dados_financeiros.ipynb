{
 "cells": [
  {
   "cell_type": "markdown",
   "metadata": {},
   "source": [
    "#### 1. Bibliotecas"
   ]
  },
  {
   "cell_type": "code",
   "execution_count": null,
   "metadata": {},
   "outputs": [],
   "source": [
    "# Importacao de bibliotecas\n",
    "\n",
    "import pandas as pd\n",
    "import numpy as np \n",
    "import matplotlib.pyplot as plt\n",
    "import matplotlib.dates as mdates\n",
    "import seaborn as sns"
   ]
  },
  {
   "cell_type": "markdown",
   "metadata": {},
   "source": [
    "#### 2. Importacao de dados\n",
    "\n",
    "leitura em excel .xlsx, mas também pode ser .csv"
   ]
  },
  {
   "cell_type": "code",
   "execution_count": null,
   "metadata": {},
   "outputs": [],
   "source": [
    "# dados de saida\n",
    "\n",
    "dados_saida = pd.read_excel('path_do_arquivo_aqui')\n",
    "\n",
    "# dados de entrada\n",
    "\n",
    "dados_entrada = pd.read_excel('path_do_arquivo_aqui')"
   ]
  },
  {
   "cell_type": "markdown",
   "metadata": {},
   "source": [
    "Informações das tabelas"
   ]
  },
  {
   "cell_type": "code",
   "execution_count": null,
   "metadata": {},
   "outputs": [],
   "source": [
    "dados_saida.info()"
   ]
  },
  {
   "cell_type": "code",
   "execution_count": null,
   "metadata": {},
   "outputs": [],
   "source": [
    "dados_entrada.info()"
   ]
  },
  {
   "cell_type": "markdown",
   "metadata": {},
   "source": [
    "#### 3. Manipulação inicial dos dados\n",
    "\n",
    "para as datas entre 01/01/2023 à 31/12/2023\n"
   ]
  },
  {
   "cell_type": "code",
   "execution_count": null,
   "metadata": {},
   "outputs": [],
   "source": [
    "# Vetor com todas as datas de 2023\n",
    "\n",
    "datas_2023 = pd.date_range(start='2023-01-01', end='2023-12-31', freq='D')"
   ]
  },
  {
   "cell_type": "markdown",
   "metadata": {},
   "source": [
    "Valores de saídas diários"
   ]
  },
  {
   "cell_type": "code",
   "execution_count": null,
   "metadata": {},
   "outputs": [],
   "source": [
    "dados_saida_valor_agrupados = dados_saida.groupby('Data', as_index=False)['Valor_total'].sum()\n",
    "\n",
    "df_saida_data_valor_total = pd.DataFrame({'Data': datas_2023})\n",
    "\n",
    "df_saida_data_valor_total = pd.merge(df_saida_data_valor_total, dados_saida_valor_agrupados, how='left', on='Data')\n",
    "\n",
    "df_saida_data_valor_total['Valor_total'].fillna(0, inplace=True)"
   ]
  },
  {
   "cell_type": "code",
   "execution_count": null,
   "metadata": {},
   "outputs": [],
   "source": [
    "df_saida_data_valor_total"
   ]
  },
  {
   "cell_type": "markdown",
   "metadata": {},
   "source": [
    "Valores de entradas diários"
   ]
  },
  {
   "cell_type": "code",
   "execution_count": null,
   "metadata": {},
   "outputs": [],
   "source": [
    "dados_entrada_valor_agrupados = dados_entrada.groupby('Data_pagamento', as_index=False)['Valor'].sum()\n",
    "\n",
    "dados_entrada_valor_agrupados = dados_entrada_valor_agrupados.rename(columns={'Data_pagamento': 'Data'})\n",
    "dados_entrada_valor_agrupados = dados_entrada_valor_agrupados.rename(columns={'Valor': 'Valor_total'})\n",
    "\n",
    "df_entrada_data_valor_total = pd.DataFrame({'Data': datas_2023})\n",
    "\n",
    "df_entrada_data_valor_total = pd.merge(df_entrada_data_valor_total, dados_entrada_valor_agrupados, how='left', on='Data')\n",
    "\n",
    "df_entrada_data_valor_total['Valor_total'].fillna(0, inplace=True)"
   ]
  },
  {
   "cell_type": "code",
   "execution_count": null,
   "metadata": {},
   "outputs": [],
   "source": [
    "df_entrada_data_valor_total"
   ]
  },
  {
   "cell_type": "markdown",
   "metadata": {},
   "source": [
    "Valores de entradas e saídas diários e acumulados"
   ]
  },
  {
   "cell_type": "code",
   "execution_count": null,
   "metadata": {},
   "outputs": [],
   "source": [
    "df_entrada_saidas_data_valor = pd.DataFrame({'Data': datas_2023})\n",
    "\n",
    "df_entrada_saidas_data_valor = pd.merge(df_entrada_saidas_data_valor, df_entrada_data_valor_total, how='left', on='Data')\n",
    "\n",
    "df_entrada_saidas_data_valor = pd.merge(df_entrada_saidas_data_valor, df_saida_data_valor_total, how='left', on='Data')\n",
    "\n",
    "df_entrada_saidas_data_valor = df_entrada_saidas_data_valor.rename(columns={'Valor_total_x': 'Valor_total_entrada'})\n",
    "\n",
    "df_entrada_saidas_data_valor = df_entrada_saidas_data_valor.rename(columns={'Valor_total_y': 'Valor_total_saida'})\n",
    "\n",
    "df_entrada_saidas_data_valor['Valor_entrada_acumulado'] = df_entrada_saidas_data_valor['Valor_total_entrada'].cumsum()\n",
    "\n",
    "df_entrada_saidas_data_valor['Valor_saida_acumulado'] = df_entrada_saidas_data_valor['Valor_total_saida'].cumsum()"
   ]
  },
  {
   "cell_type": "code",
   "execution_count": null,
   "metadata": {},
   "outputs": [],
   "source": [
    "df_entrada_saidas_data_valor"
   ]
  },
  {
   "cell_type": "markdown",
   "metadata": {},
   "source": [
    "Balanço mensal de saldo"
   ]
  },
  {
   "cell_type": "code",
   "execution_count": null,
   "metadata": {},
   "outputs": [],
   "source": [
    "df_entrada_saidas_mensal = dados_saida.groupby(dados_saida['Data'].dt.to_period('M'))['Valor_total'].sum()\n",
    "\n",
    "df_saida_saidas_mensal = dados_entrada.groupby(dados_entrada['Data_pagamento'].dt.to_period('M'))['Valor'].sum()\n",
    "\n",
    "balanco_mensal_total = df_saida_saidas_mensal - df_entrada_saidas_mensal"
   ]
  },
  {
   "cell_type": "markdown",
   "metadata": {},
   "source": [
    "#### 4. Gráficos de Análise Macro\n"
   ]
  },
  {
   "cell_type": "markdown",
   "metadata": {},
   "source": [
    "Gráfico de Linhas dos Gastos Diários"
   ]
  },
  {
   "cell_type": "code",
   "execution_count": null,
   "metadata": {},
   "outputs": [],
   "source": [
    "plt.figure(figsize=(25, 5))\n",
    "\n",
    "plt.plot(df_saida_data_valor_total['Data'], \n",
    "         df_saida_data_valor_total['Valor_total'], \n",
    "         linewidth=2, \n",
    "         linestyle='-', \n",
    "         color='red')\n",
    "\n",
    "plt.title('GASTOS POR DIA')\n",
    "plt.xlabel('Período')\n",
    "plt.ylabel('Valores em R$')\n",
    "\n",
    "plt.grid(False)\n",
    "\n",
    "plt.gca().xaxis.set_major_locator(mdates.MonthLocator())\n",
    "plt.gca().xaxis.set_major_formatter(mdates.DateFormatter('%b'))\n",
    "\n",
    "plt.gca().spines['top'].set_visible(False)\n",
    "plt.gca().spines['right'].set_visible(False)\n",
    "plt.gca().spines['left'].set_visible(True)\n",
    "plt.gca().spines['bottom'].set_visible(True)\n",
    "\n",
    "plt.show()\n",
    "\n",
    "plt.savefig(r'local_para_salvar_arquivo_aqui.png', dpi=500, bbox_inches='tight')"
   ]
  },
  {
   "cell_type": "markdown",
   "metadata": {},
   "source": [
    "Gráfico de Linhas dos Entradas Diários"
   ]
  },
  {
   "cell_type": "code",
   "execution_count": null,
   "metadata": {},
   "outputs": [],
   "source": [
    "plt.figure(figsize=(25, 5))\n",
    "\n",
    "plt.plot(df_entrada_data_valor_total['Data'], \n",
    "         df_entrada_data_valor_total['Valor_total'], \n",
    "         linewidth=2, \n",
    "         linestyle='-', \n",
    "         color='#B3B3B3')\n",
    "\n",
    "plt.title('ENTRADAS POR DIA')\n",
    "plt.xlabel('Período')\n",
    "plt.ylabel('Valores (R$)')\n",
    "\n",
    "plt.grid(False)\n",
    "\n",
    "plt.gca().xaxis.set_major_locator(mdates.MonthLocator())\n",
    "plt.gca().xaxis.set_major_formatter(mdates.DateFormatter('%b'))\n",
    "\n",
    "plt.gca().spines['top'].set_visible(False)\n",
    "plt.gca().spines['right'].set_visible(False)\n",
    "plt.gca().spines['left'].set_visible(True)\n",
    "plt.gca().spines['bottom'].set_visible(True)\n",
    "\n",
    "plt.show()\n",
    "\n",
    "plt.savefig(r'local_para_salvar_arquivo_aqui.png', dpi=500, bbox_inches='tight')"
   ]
  },
  {
   "cell_type": "markdown",
   "metadata": {},
   "source": [
    "Caso deseje fazer uma divisão dos valores por período para, por exemplo, plotar com cores e legendas diferentes, aplicar a seguinte logica"
   ]
  },
  {
   "cell_type": "code",
   "execution_count": null,
   "metadata": {},
   "outputs": [],
   "source": [
    "periodo1 = df[(df['Data'] >= pd.to_datetime('2023-01-01')) & (df['Data'] <= pd.to_datetime('2023-01-31'))]\n",
    "periodo2 = df[(df['Data'] >= pd.to_datetime('2023-01-31')) & (df['Data'] <= pd.to_datetime('2023-02-28'))]\n",
    "\n",
    "plt.plot(periodo1['Data'], periodo1['Valor_total'], linestyle='--', linewidth=2, color='#B3B3B3', label='LEGENDA PERIODO 1')\n",
    "plt.plot(periodo2['Data'], periodo2['Valor_total'], linestyle='-', linewidth=2, color='#FD7524', label='LEGENDA PERIODO 2')\n"
   ]
  },
  {
   "cell_type": "markdown",
   "metadata": {},
   "source": [
    "Gráfico de Linhas dos Entradas e Saídas Acumuladas"
   ]
  },
  {
   "cell_type": "code",
   "execution_count": null,
   "metadata": {},
   "outputs": [],
   "source": [
    "plt.figure(figsize=(25, 10))\n",
    "\n",
    "plt.plot(df_entrada_saidas_data_valor['Data'], \n",
    "         df_entrada_saidas_data_valor['Valor_entrada_acumulado'],\n",
    "         linestyle='--',\n",
    "         linewidth=2,\n",
    "         color='green', \n",
    "         label='Entradas')\n",
    "\n",
    "plt.plot(df_entrada_saidas_data_valor['Data'], \n",
    "         df_entrada_saidas_data_valor['Valor_saida_acumulado'],\n",
    "         linestyle='-', \n",
    "         linewidth=2,\n",
    "         color='red', \n",
    "         label='Saidas')\n",
    "\n",
    "plt.title('ENTRADAS E SAÍDAS ACUMULADAS')\n",
    "plt.xlabel('Período')\n",
    "plt.ylabel('Valores (R$)')\n",
    "plt.grid(False)\n",
    "\n",
    "plt.gca().xaxis.set_major_locator(mdates.MonthLocator())\n",
    "plt.gca().xaxis.set_major_formatter(mdates.DateFormatter('%b'))\n",
    "\n",
    "plt.gca().spines['top'].set_visible(False)\n",
    "plt.gca().spines['right'].set_visible(False)\n",
    "plt.gca().spines['left'].set_visible(True)\n",
    "plt.gca().spines['bottom'].set_visible(True)\n",
    "\n",
    "# Marca de valores de saida\n",
    "marca_valores = [5000, 10000, 15000, 20000]\n",
    "\n",
    "# Datas dos valores marcados\n",
    "marca_valores_datas = [df_entrada_saidas_data_valor.loc[(df_entrada_saidas_data_valor['Valor_saida_acumulado'] >= value), \n",
    "                                                 'Data'].min() for value in marca_valores]\n",
    "\n",
    "for date, value in zip(marca_valores_datas, marca_valores):\n",
    "    plt.plot(date, value, marker='o', color='red')\n",
    "\n",
    "print(marca_valores_datas)\n",
    "\n",
    "plt.legend(loc='center left', bbox_to_anchor=(1.0, 0.5), fontsize=10, title=\"\")\n",
    "\n",
    "plt.show()\n",
    "\n",
    "plt.savefig(r'local_para_salvar_arquivo_aqui.png', dpi=500, bbox_inches='tight')"
   ]
  },
  {
   "cell_type": "markdown",
   "metadata": {},
   "source": [
    "Gráfico de Barras de Saldo = Entradas - Saidas"
   ]
  },
  {
   "cell_type": "code",
   "execution_count": null,
   "metadata": {},
   "outputs": [],
   "source": [
    "plt.figure(figsize=(25, 10))\n",
    "\n",
    "ax = balanco_mensal_total.plot(kind='bar', color=colors)\n",
    "\n",
    "ax.set_xticklabels([month.strftime('%b') for month in balanco_mensal_total.index], rotation=0)\n",
    "\n",
    "colors = ['#13A555' if balance >= 0 else '#FF0000' for balance in balanco_mensal_total]\n",
    "\n",
    "for i, balance in enumerate(balanco_mensal_total):\n",
    "    ax.text(i, balance, f'R$ {balance:.2f}', ha='center', va='bottom')\n",
    "\n",
    "plt.title('BALANÇO MENSAL')\n",
    "plt.xlabel('Período')\n",
    "plt.ylabel('Valores (R$)')\n",
    "\n",
    "plt.gca().spines['top'].set_visible(False)\n",
    "plt.gca().spines['right'].set_visible(False)\n",
    "plt.gca().spines['left'].set_visible(True)\n",
    "plt.gca().spines['bottom'].set_visible(True)\n",
    "\n",
    "plt.show()\n",
    "\n",
    "plt.savefig(r'local_para_salvar_arquivo_aqui.png', dpi=500, bbox_inches='tight')"
   ]
  },
  {
   "cell_type": "markdown",
   "metadata": {},
   "source": [
    "#### 5. Gráficos de Análise Micro"
   ]
  },
  {
   "cell_type": "markdown",
   "metadata": {},
   "source": [
    "Dados de origem das ENTRADAS"
   ]
  },
  {
   "cell_type": "code",
   "execution_count": null,
   "metadata": {},
   "outputs": [],
   "source": [
    "# Manipulação dos dados\n",
    "\n",
    "dados_origem_valor = dados_entrada.groupby('Origem', as_index=False)['Valor'].sum()\n",
    "\n",
    "dados_origem_valor = dados_origem_valor.sort_values(by='Valor', ascending=False)\n",
    "\n",
    "# Top 5 origens de entradas e demais\n",
    "top5_origem_valor = pd.concat([dados_origem_valor.head(5),\n",
    "                                  pd.DataFrame({'Origem': ['Outros'], 'Valor': [dados_origem_valor['Valor'][5:].sum()]})],\n",
    "                                  ignore_index=True)"
   ]
  },
  {
   "cell_type": "code",
   "execution_count": null,
   "metadata": {},
   "outputs": [],
   "source": [
    "# Gráfico de Pizza\n",
    "\n",
    "plt.figure(figsize=(8, 8))\n",
    "\n",
    "wedges, texts, autotexts = plt.pie(top5_origem_valor['Valor'], \n",
    "                                   autopct='%1.2f%%', \n",
    "                                   startangle=0, \n",
    "                                   pctdistance=1.15, \n",
    "                                   colors = ['#004EA7', '#FF3535', '#36CD00', '#FD7524', '#8100FF', '#B3B3B3'],\n",
    "                                   wedgeprops=dict(width=0.4, edgecolor='white'))\n",
    "\n",
    "plt.setp(autotexts, size=12, weight=\"bold\")\n",
    "\n",
    "legendas_origens = [f\"{origem} | R$ {valor:.2f}\" for origem, valor in zip(top5_origem_valor['Origem'], top5_origem_valor['Valor'])]\n",
    "\n",
    "plt.legend(legendas_origens, loc='center left', bbox_to_anchor=(1.0, 0.5), fontsize=12, title=\"ORIGENS\")\n",
    "\n",
    "ax = plt.gca()\n",
    "ax.annotate(f\"TOTAL\\nR$ {top5_origem_valor['Valor'].sum():.2f}\", \n",
    "            xy=(0.5, 0.5), \n",
    "            xycoords='axes fraction', \n",
    "            ha='center', \n",
    "            va='center', \n",
    "            fontsize=12,\n",
    "            weight=\"bold\",\n",
    "            bbox=dict(boxstyle=\"square\", alpha=0))\n",
    "\n",
    "plt.title('DISTRIBUIÇÃO DAS ORIGENS DOS VALORES DE ENTRADA')\n",
    "\n",
    "plt.show()\n",
    "\n",
    "plt.savefig(r'local_para_salvar_arquivo_aqui.png', dpi=500, bbox_inches='tight')"
   ]
  },
  {
   "cell_type": "markdown",
   "metadata": {},
   "source": [
    "Dados de categoria das SAÍDAS"
   ]
  },
  {
   "cell_type": "code",
   "execution_count": null,
   "metadata": {},
   "outputs": [],
   "source": [
    "# Manipulação dos dados\n",
    "\n",
    "dados_categoria_valor = dados_saida.groupby('Categoria', as_index=False)['Valor_total'].sum()\n",
    "\n",
    "dados_categoria_valor = dados_categoria_valor.sort_values(by='Valor_total', ascending=False)\n",
    "\n",
    "dados_categoria_valor = dados_categoria_valor.rename(columns={'Valor_total': 'Valor'})\n",
    "\n",
    "# Top 5 categorias de saidas e demais\n",
    "top5_categoria_valor = pd.concat([dados_categoria_valor.head(5),\n",
    "                                  pd.DataFrame({'Categoria': ['Outros'], 'Valor': [dados_categoria_valor['Valor'][10:].sum()]})],\n",
    "                                  ignore_index=True)"
   ]
  },
  {
   "cell_type": "code",
   "execution_count": null,
   "metadata": {},
   "outputs": [],
   "source": [
    "# Gráfico de Pizza\n",
    "\n",
    "plt.figure(figsize=(8, 8))\n",
    "\n",
    "wedges, texts, autotexts = plt.pie(top5_categoria_valor['Valor'], \n",
    "                                   autopct='%1.2f%%', \n",
    "                                   startangle=0, \n",
    "                                   pctdistance=1.15, \n",
    "                                   colors=['#5ADA58', '#DA589F', '#587DDA', '#8258DA', '#DA5858'],\n",
    "                                   wedgeprops=dict(width=0.4, edgecolor='white'))\n",
    "\n",
    "\n",
    "plt.setp(autotexts, size=12, weight=\"bold\")\n",
    "\n",
    "legendas_categorias = [f\"{categoria} | R$ {valor:.2f}\" for categoria, valor in zip(top5_categoria_valor['Categoria'], top5_categoria_valor['Valor'])]\n",
    "\n",
    "plt.legend(legendas_categorias, loc='center left', bbox_to_anchor=(1.0, 0.5), fontsize=12, title=\"CATEGORIAS\")\n",
    "\n",
    "ax = plt.gca()\n",
    "ax.annotate(f\"TOTAL\\nR$ {top5_categoria_valor['Valor'].sum():.2f}\", \n",
    "            xy=(0.5, 0.5), \n",
    "            xycoords='axes fraction', \n",
    "            ha='center', \n",
    "            va='center', \n",
    "            fontsize=12,\n",
    "            weight=\"bold\",\n",
    "            bbox=dict(boxstyle=\"square\", alpha=0))\n",
    "\n",
    "plt.title('DISTRIBUIÇÃO DE CATEGORIAS DOS VALORES DE SAÍDA')\n",
    "\n",
    "plt.show()\n",
    "\n",
    "plt.savefig(r'local_para_salvar_arquivo_aqui.png', dpi=500, bbox_inches='tight')"
   ]
  },
  {
   "cell_type": "markdown",
   "metadata": {},
   "source": [
    "Dados de Itens por Categorias das SAÍDAS"
   ]
  },
  {
   "cell_type": "code",
   "execution_count": null,
   "metadata": {},
   "outputs": [],
   "source": [
    "def plot_top_itens_categoria(dados, categoria, n_top, local_save):\n",
    "\n",
    "    # Manipulação dos dados\n",
    "\n",
    "    df_iten_categoria = dados[dados['Categoria'] == categoria]\n",
    "    \n",
    "    df_categoria_valor = df_iten_categoria.groupby('Item', as_index=False)['Valor_total'].sum().sort_values(by='Valor_total', ascending=False) # type: ignore\n",
    "    \n",
    "    top_n_iten_categoria_valor = df_categoria_valor.head(n_top)\n",
    "\n",
    "    display(top_n_iten_categoria_valor)\n",
    "\n",
    "    # Gráfico de Pizza\n",
    "\n",
    "    plt.figure(figsize=(8, 8))\n",
    "\n",
    "    colors = ['#000000', '#1A1A1A', '#333333', '#4D4DA4D', '#666666', '#808080', '#999999', '#B3B3B3', '#CCCCCC', '#E6E6E6']\n",
    "\n",
    "    wedges, texts, autotexts = plt.pie(top_n_iten_categoria_valor['Valor_total'], \n",
    "                                    autopct='%1.2f%%', \n",
    "                                    startangle=0, \n",
    "                                    pctdistance=1.15, \n",
    "                                    colors=colors, \n",
    "                                    wedgeprops=dict(width=0.4, edgecolor='white'))\n",
    "\n",
    "    plt.setp(autotexts, size=12, weight=\"bold\")\n",
    "\n",
    "    legendas_itens = [f\"{item} | R$ {valor:.2f}\" for item, valor in zip(top_n_iten_categoria_valor['Item'], top_n_iten_categoria_valor['Valor_total'])]\n",
    "    \n",
    "    plt.legend(legendas_itens, loc='center left', bbox_to_anchor=(1.0, 0.5), fontsize=12, title=\"ITENS\")\n",
    "\n",
    "    ax = plt.gca()\n",
    "    ax.annotate(f\"TOTAL\\nR$ {top_n_iten_categoria_valor['Valor_total'].sum():.2f}\", \n",
    "                xy=(0.5, 0.5), \n",
    "                xycoords='axes fraction', \n",
    "                ha='center', \n",
    "                va='center', \n",
    "                fontsize=12,\n",
    "                weight=\"bold\",\n",
    "                bbox=dict(boxstyle=\"square\", alpha=0))\n",
    "\n",
    "    plt.title(f\"DISTRIBUIÇÃO DOS {n_top} ITENS DE {categoria}\", fontsize=16, x=0.75, weight=\"bold\")\n",
    "\n",
    "    plt.show()\n",
    "\n",
    "    plt.savefig(local_save, dpi=500, bbox_inches='tight')"
   ]
  },
  {
   "cell_type": "markdown",
   "metadata": {},
   "source": [
    "Distribuição mensal dos valores por Categoria de SAÍDA (em porcentagem)"
   ]
  },
  {
   "cell_type": "code",
   "execution_count": null,
   "metadata": {},
   "outputs": [],
   "source": [
    "def plot_dist_categoria_mensal(dados, categoria, cor, local_save):\n",
    "\n",
    "    # Manipulação dos dados\n",
    "\n",
    "    df_categoria_mensal = dados.groupby([dados['Data'].dt.to_period(\"M\"), 'Categoria'])['Valor_total'].sum().reset_index()\n",
    "    df_categoria_mensal['Data'] = df_categoria_mensal['Data'].dt.strftime('%b')\n",
    "\n",
    "    df_valor_mensal_categoria = df_categoria_mensal.pivot(index='Data', columns='Categoria', values='Valor_total').fillna(0)\n",
    "\n",
    "    ordem_meses = ['Jan', 'Feb', 'Mar', 'Apr', 'May', 'Jun', 'Jul', 'Aug', 'Sep', 'Oct', 'Nov', 'Dec']\n",
    "\n",
    "    df_valor_mensal_categoria = df_valor_mensal_categoria.reindex(ordem_meses)\n",
    "\n",
    "    ordem_alfabetica_categoria = sorted(df_valor_mensal_categoria.columns)\n",
    "\n",
    "    paleta_cores_cinza = sns.color_palette(\"gray\", n_colors=len(ordem_alfabetica_categoria))\n",
    "    colors = {category: paleta_cores_cinza[i] for i, category in enumerate(ordem_alfabetica_categoria)}\n",
    "    colors[categoria] = cor\n",
    "\n",
    "    df_porcentagem = df_valor_mensal_categoria.divide(df_valor_mensal_categoria.sum(axis=1), axis=0) * 100\n",
    "\n",
    "    df_porcentagem.plot(kind='bar', stacked=True, color=[colors[col] for col in df_porcentagem.columns],  width=0.75)\n",
    "\n",
    "    plt.title('DISTRIBUIÇÃO MENSAL DAS CATEGORIAS DE SAÍDA', fontsize=16)\n",
    "\n",
    "    plt.xlabel('Período')\n",
    "    plt.ylabel('Porcentagem do Valor Total (%)')\n",
    "\n",
    "    plt.gca().spines['top'].set_visible(False)\n",
    "    plt.gca().spines['right'].set_visible(False)\n",
    "    plt.gca().spines['left'].set_visible(True)\n",
    "    plt.gca().spines['bottom'].set_visible(True)\n",
    "\n",
    "    plt.legend('', frameon=False)\n",
    "\n",
    "    plt.savefig(local_save, dpi=500, bbox_inches='tight')"
   ]
  }
 ],
 "metadata": {
  "language_info": {
   "name": "python"
  }
 },
 "nbformat": 4,
 "nbformat_minor": 2
}
